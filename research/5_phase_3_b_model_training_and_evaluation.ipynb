{
 "cells": [
  {
   "cell_type": "markdown",
   "id": "6b677ed8",
   "metadata": {},
   "source": [
    "Purpose: The main ML modeling step.\n",
    "\n",
    "Content: Loads the feature-engineered data, splits it into training and testing sets, trains multiple models (Random Forest, XGBoost), evaluates their performance using cross-validation and metrics (Accuracy, F1-Score, AUC-ROC), and compares them to find the best one.\n",
    "\n",
    "Output: Saves the best-performing trained model to the models/ directory."
   ]
  }
 ],
 "metadata": {
  "language_info": {
   "name": "python"
  }
 },
 "nbformat": 4,
 "nbformat_minor": 5
}
