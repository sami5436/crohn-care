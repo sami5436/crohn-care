{
 "cells": [
  {
   "cell_type": "markdown",
   "id": "3bb0a683",
   "metadata": {},
   "source": [
    "Purpose: Imports and runs the data_generator script to create your synthetic dataset.\n",
    "\n",
    "Output: Saves the raw CSV files to the data/raw/ directory."
   ]
  },
  {
   "cell_type": "code",
   "execution_count": 29,
   "id": "0405bb35",
   "metadata": {},
   "outputs": [],
   "source": [
    "import pandas as pd\n",
    "import numpy as np\n",
    "import random\n",
    "from datetime import datetime, timedelta\n",
    "import os"
   ]
  },
  {
   "cell_type": "markdown",
   "id": "a4817b41",
   "metadata": {},
   "source": [
    "the following is just some config"
   ]
  },
  {
   "cell_type": "code",
   "execution_count": 30,
   "id": "e50a26ca",
   "metadata": {},
   "outputs": [],
   "source": [
    "USER_ID = \"user_123\"\n",
    "NUM_DAYS = 90  # Generate data for 3 months\n",
    "START_DATE = datetime(2025, 1, 1)\n",
    "SYMPTOM_PROBABILITY_PER_DAY = 0.3 # literally just used for randomness later on"
   ]
  },
  {
   "cell_type": "markdown",
   "id": "96109bfc",
   "metadata": {},
   "source": [
    "make a universe of diff foods + symptoms"
   ]
  },
  {
   "cell_type": "code",
   "execution_count": 31,
   "id": "99b1cb94",
   "metadata": {},
   "outputs": [],
   "source": [
    "FOOD_UNIVERSE = {\n",
    "    \"Pizza Slice\": {\"tags\": [\"gluten\", \"dairy\", \"processed\", \"high-fat\"]},\n",
    "    \"Mac & Cheese\": {\"tags\": [\"gluten\", \"dairy\", \"processed\"]},\n",
    "    \"Cheeseburger\": {\"tags\": [\"gluten\", \"dairy\", \"processed\", \"red-meat\"]},\n",
    "    \"Cereal with Milk\": {\"tags\": [\"gluten\", \"dairy\", \"processed\", \"sugary\"]},\n",
    "    \"Spicy Curry\": {\"tags\": [\"spicy\", \"high-fat\", \"dairy-free\"]},\n",
    "    \"Buffalo Wings\": {\"tags\": [\"spicy\", \"processed\", \"high-fat\"]},\n",
    "    \"Large Apple\": {\"tags\": [\"high-fiber\", \"fruit\", \"raw\"]},\n",
    "    \"Bean Burrito\": {\"tags\": [\"high-fiber\", \"gluten\"]},\n",
    "    \"Lentil Soup\": {\"tags\": [\"high-fiber\", \"legume\"]},\n",
    "    \"Grilled Chicken Breast\": {\"tags\": [\"low-fodmap\", \"protein\"]},\n",
    "    \"Steamed Rice\": {\"tags\": [\"low-fodmap\", \"carb\"]},\n",
    "    \"Cooked Carrots\": {\"tags\": [\"low-fodmap\", \"vegetable\"]},\n",
    "    \"Scrambled Eggs\": {\"tags\": [\"low-fodmap\", \"protein\"]},\n",
    "    \"Gluten-Free Toast\": {\"tags\": [\"gluten-free\"]},\n",
    "}\n",
    "\n",
    "SYMPTOM_UNIVERSE = [\"Abdominal Pain\", \"Bloating\", \"Fatigue\", \"Nausea\", \"Urgency\"]"
   ]
  },
  {
   "cell_type": "markdown",
   "id": "5fb815e6",
   "metadata": {},
   "source": [
    "create user"
   ]
  },
  {
   "cell_type": "code",
   "execution_count": 32,
   "id": "e75908d8",
   "metadata": {},
   "outputs": [],
   "source": [
    "user_data = [{\n",
    "    \"user_id\": USER_ID,\n",
    "    \"age\": random.randint(25, 45),\n",
    "    \"gender\": random.choice([\"Male\", \"Female\", \"Non-binary\"]),\n",
    "    \"diagnosis_date\": (START_DATE - timedelta(days=random.randint(180, 2000))).strftime('%Y-%m-%d')\n",
    "}]"
   ]
  },
  {
   "cell_type": "code",
   "execution_count": 33,
   "id": "8f9611cd",
   "metadata": {},
   "outputs": [],
   "source": [
    "all_meals_logs = []\n",
    "all_symptoms_logs = []"
   ]
  },
  {
   "cell_type": "markdown",
   "id": "151ef476",
   "metadata": {},
   "source": [
    "generate fake data"
   ]
  },
  {
   "cell_type": "code",
   "execution_count": 34,
   "id": "510e5096",
   "metadata": {},
   "outputs": [],
   "source": [
    "for day_num in range(NUM_DAYS):\n",
    "    current_date = START_DATE + timedelta(days=day_num)\n",
    "\n",
    "    # --- A: Generate Meals for the day ---\n",
    "    for meal_type in [\"Breakfast\", \"Lunch\", \"Dinner\"]:\n",
    "        if meal_type == \"Breakfast\": meal_time = current_date + timedelta(hours=random.uniform(7, 9))\n",
    "        elif meal_type == \"Lunch\": meal_time = current_date + timedelta(hours=random.uniform(12, 14))\n",
    "        else: meal_time = current_date + timedelta(hours=random.uniform(18, 20))\n",
    "\n",
    "        chosen_food_name = random.choice(list(FOOD_UNIVERSE.keys()))\n",
    "        chosen_food_tags = FOOD_UNIVERSE[chosen_food_name][\"tags\"]\n",
    "\n",
    "        all_meals_logs.append({\n",
    "            \"meal_id\": f\"meal_{len(all_meals_logs)+1}\",\n",
    "            \"user_id\": USER_ID,\n",
    "            \"timestamp\": meal_time.strftime('%Y-%m-%d %H:%M:%S'),\n",
    "            \"meal_type\": meal_type,\n",
    "            \"food_name\": chosen_food_name,\n",
    "            \"food_tags\": \", \".join(chosen_food_tags)\n",
    "        })\n",
    "\n",
    "    # --- B: Generate Symptoms for the day (Independent of meals) ---\n",
    "    if random.random() < SYMPTOM_PROBABILITY_PER_DAY:\n",
    "        num_symptoms_today = random.randint(1, 2)\n",
    "        for _ in range(num_symptoms_today):\n",
    "            symptom_time = current_date + timedelta(hours=random.uniform(8, 22)) # Random time during the day\n",
    "            symptom_type = random.choice(SYMPTOM_UNIVERSE)\n",
    "            severity = random.randint(3, 8) # Assign a random severity\n",
    "\n",
    "            all_symptoms_logs.append({\n",
    "                \"symptom_id\": f\"symp_{len(all_symptoms_logs)+1}\",\n",
    "                \"user_id\": USER_ID,\n",
    "                \"timestamp\": symptom_time.strftime('%Y-%m-%d %H:%M:%S'),\n",
    "                \"symptom\": symptom_type,\n",
    "                \"severity\": severity\n",
    "            })\n"
   ]
  },
  {
   "cell_type": "markdown",
   "id": "f2e2b5fa",
   "metadata": {},
   "source": [
    "create dfs"
   ]
  },
  {
   "cell_type": "code",
   "execution_count": 35,
   "id": "23f298ea",
   "metadata": {},
   "outputs": [],
   "source": [
    "df_user = pd.DataFrame(user_data)\n",
    "df_meals = pd.DataFrame(all_meals_logs)\n",
    "df_symptoms = pd.DataFrame(all_symptoms_logs)"
   ]
  },
  {
   "cell_type": "markdown",
   "id": "40bf0ded",
   "metadata": {},
   "source": [
    "sort since we did add that randomness into it"
   ]
  },
  {
   "cell_type": "code",
   "execution_count": 36,
   "id": "af0302f1",
   "metadata": {},
   "outputs": [],
   "source": [
    "df_meals = df_meals.sort_values(by=\"timestamp\").reset_index(drop=True)\n",
    "df_symptoms = df_symptoms.sort_values(by=\"timestamp\").reset_index(drop=True)"
   ]
  },
  {
   "cell_type": "markdown",
   "id": "f49c57d8",
   "metadata": {},
   "source": [
    "define output dir + create it if not exist"
   ]
  },
  {
   "cell_type": "code",
   "execution_count": 37,
   "id": "eb128d8f",
   "metadata": {},
   "outputs": [],
   "source": [
    "output_dir = \"data/raw\"\n",
    "os.makedirs(output_dir, exist_ok=True)"
   ]
  },
  {
   "cell_type": "markdown",
   "id": "88e0494b",
   "metadata": {},
   "source": [
    "create paths for every df"
   ]
  },
  {
   "cell_type": "code",
   "execution_count": 38,
   "id": "a7f23b8d",
   "metadata": {},
   "outputs": [],
   "source": [
    "user_path = os.path.join(output_dir, \"user.csv\")\n",
    "meals_path = os.path.join(output_dir, \"meals.csv\")\n",
    "symptoms_path = os.path.join(output_dir, \"symptoms.csv\")"
   ]
  },
  {
   "cell_type": "markdown",
   "id": "44f42b34",
   "metadata": {},
   "source": [
    "save dfs into dir"
   ]
  },
  {
   "cell_type": "code",
   "execution_count": 39,
   "id": "53549f99",
   "metadata": {},
   "outputs": [],
   "source": [
    "df_user.to_csv(user_path, index=False)\n",
    "df_meals.to_csv(meals_path, index=False)\n",
    "df_symptoms.to_csv(symptoms_path, index=False)"
   ]
  }
 ],
 "metadata": {
  "kernelspec": {
   "display_name": "ig-reel-env",
   "language": "python",
   "name": "python3"
  },
  "language_info": {
   "codemirror_mode": {
    "name": "ipython",
    "version": 3
   },
   "file_extension": ".py",
   "mimetype": "text/x-python",
   "name": "python",
   "nbconvert_exporter": "python",
   "pygments_lexer": "ipython3",
   "version": "3.11.13"
  }
 },
 "nbformat": 4,
 "nbformat_minor": 5
}
