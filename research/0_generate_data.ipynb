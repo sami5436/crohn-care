{
 "cells": [
  {
   "cell_type": "markdown",
   "id": "3bb0a683",
   "metadata": {},
   "source": [
    "Purpose: Imports and runs the data_generator script to create your synthetic dataset.\n",
    "\n",
    "Output: Saves the raw CSV files to the data/raw/ directory."
   ]
  }
 ],
 "metadata": {
  "kernelspec": {
   "display_name": "ig-reel-env",
   "language": "python",
   "name": "python3"
  },
  "language_info": {
   "name": "python",
   "version": "3.11.13"
  }
 },
 "nbformat": 4,
 "nbformat_minor": 5
}
