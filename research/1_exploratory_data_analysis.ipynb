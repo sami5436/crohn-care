{
 "cells": [
  {
   "cell_type": "markdown",
   "id": "183f1278",
   "metadata": {},
   "source": [
    "Purpose: The crucial first step of any analysis. Load the raw data and explore it.\n",
    "\n",
    "Content: Generate descriptive statistics, visualize distributions of symptoms, identify the most common foods, and look for any obvious initial patterns."
   ]
  }
 ],
 "metadata": {
  "language_info": {
   "name": "python"
  }
 },
 "nbformat": 4,
 "nbformat_minor": 5
}
