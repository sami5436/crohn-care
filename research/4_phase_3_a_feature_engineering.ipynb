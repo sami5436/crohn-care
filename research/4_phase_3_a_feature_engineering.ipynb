{
 "cells": [
  {
   "cell_type": "markdown",
   "id": "9bbf93f9",
   "metadata": {},
   "source": [
    "Purpose: Prepares the full dataset for machine learning.\n",
    "\n",
    "Content: Imports functions from src/feature_engineering.py to transform the raw logs into a single, feature-rich table with lagged features, interaction terms, and one-hot encoding.\n",
    "\n",
    "Output: Saves the final phase_3_feature_engineered.csv to data/processed/."
   ]
  }
 ],
 "metadata": {
  "language_info": {
   "name": "python"
  }
 },
 "nbformat": 4,
 "nbformat_minor": 5
}
