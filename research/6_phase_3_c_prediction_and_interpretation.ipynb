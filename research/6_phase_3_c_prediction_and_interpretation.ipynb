{
 "cells": [
  {
   "cell_type": "markdown",
   "id": "7466666e",
   "metadata": {},
   "source": [
    "Purpose: To test and understand the final model.\n",
    "\n",
    "Content: Loads the saved model from the models/ directory, makes predictions on a holdout dataset, and uses techniques like SHAP or LIME to interpret the model's predictions (i.e., explains why the model predicted a flare-up by showing the contributing factors)."
   ]
  }
 ],
 "metadata": {
  "language_info": {
   "name": "python"
  }
 },
 "nbformat": 4,
 "nbformat_minor": 5
}
