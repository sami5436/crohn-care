{
 "cells": [
  {
   "cell_type": "markdown",
   "id": "855c690d",
   "metadata": {},
   "source": [
    "Purpose: To simulate and test the logic for Phase 1.\n",
    "\n",
    "Content: Loads a sample of raw user data, formats it into a text prompt (like in the example), makes a call to an LLM API (Ollama), and displays the generated preliminary insight."
   ]
  }
 ],
 "metadata": {
  "language_info": {
   "name": "python"
  }
 },
 "nbformat": 4,
 "nbformat_minor": 5
}
